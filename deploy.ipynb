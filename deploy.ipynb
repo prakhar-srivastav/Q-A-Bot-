{
 "cells": [
  {
   "cell_type": "code",
   "execution_count": 64,
   "metadata": {},
   "outputs": [],
   "source": [
    "\n",
    "from __future__ import division, print_function\n",
    "\n",
    "import sys\n",
    "import os\n",
    "import glob\n",
    "import re\n",
    "import numpy as np\n",
    "#from keras.applications.imagenet_utils import preprocess_input, decode_predictions\n",
    "from keras.models import load_model\n",
    "from keras.preprocessing import image\n",
    "from keras.preprocessing.sequence import pad_sequences\n",
    "\n",
    "from flask import Flask, redirect, url_for, request, render_template\n",
    "from werkzeug.utils import secure_filename\n",
    "from gevent.pywsgi import WSGIServer"
   ]
  },
  {
   "cell_type": "code",
   "execution_count": 65,
   "metadata": {},
   "outputs": [],
   "source": [
    "app = Flask(__name__)\n"
   ]
  },
  {
   "cell_type": "code",
   "execution_count": 66,
   "metadata": {},
   "outputs": [],
   "source": [
    "max_question_len=6\n",
    "max_story_len=156\n",
    "word_index={'.': 30,\n",
    " '?': 21,\n",
    " 'apple': 19,\n",
    " 'back': 20,\n",
    " 'bathroom': 31,\n",
    " 'bedroom': 3,\n",
    " 'daniel': 5,\n",
    " 'discarded': 32,\n",
    " 'down': 24,\n",
    " 'dropped': 1,\n",
    " 'football': 2,\n",
    " 'garden': 4,\n",
    " 'got': 36,\n",
    " 'grabbed': 25,\n",
    " 'hallway': 27,\n",
    " 'in': 11,\n",
    " 'is': 17,\n",
    " 'john': 23,\n",
    " 'journeyed': 12,\n",
    " 'kitchen': 28,\n",
    " 'left': 10,\n",
    " 'mary': 14,\n",
    " 'milk': 35,\n",
    " 'moved': 26,\n",
    " 'no': 8,\n",
    " 'office': 15,\n",
    " 'picked': 16,\n",
    " 'put': 33,\n",
    " 'sandra': 13,\n",
    " 'the': 29,\n",
    " 'there': 22,\n",
    " 'to': 7,\n",
    " 'took': 34,\n",
    " 'travelled': 18,\n",
    " 'up': 37,\n",
    " 'went': 6,\n",
    " 'yes': 9}"
   ]
  },
  {
   "cell_type": "code",
   "execution_count": 67,
   "metadata": {},
   "outputs": [],
   "source": [
    "MODEL_PATH = 'chatbot_120_epochs.h5'\n",
    "model = load_model(MODEL_PATH)"
   ]
  },
  {
   "cell_type": "code",
   "execution_count": 68,
   "metadata": {},
   "outputs": [],
   "source": [
    "model._make_predict_function()    "
   ]
  },
  {
   "cell_type": "code",
   "execution_count": 69,
   "metadata": {
    "scrolled": true
   },
   "outputs": [
    {
     "name": "stdout",
     "output_type": "stream",
     "text": [
      "Model loaded. Check http://127.0.0.1:5000/\n"
     ]
    }
   ],
   "source": [
    "print('Model loaded. Check http://127.0.0.1:5000/')"
   ]
  },
  {
   "cell_type": "code",
   "execution_count": 70,
   "metadata": {},
   "outputs": [],
   "source": [
    "def model_predict(x,y, model,max_question_len=max_question_len,max_story_len=max_story_len,word_index=word_index):\n",
    "    \n",
    "    X = []\n",
    "    Y = []\n",
    "    x.split(' ')\n",
    "    y.split(' ')\n",
    "  \n",
    "    x = [word_index[word.lower()] for word in x.split(' ')]\n",
    "    y = [word_index[word.lower()] for word in y.split(' ')]  \n",
    "\n",
    "        \n",
    "    X.append(x)\n",
    "    Y.append(y)\n",
    "        \n",
    "    X=pad_sequences(X, maxlen=max_story_len)\n",
    "    Y=pad_sequences(Y, maxlen=max_question_len)\n",
    "    #print([X,Y])\n",
    "    pred_results = model.predict( ([X,Y]) )\n",
    "    \n",
    "    val_max = np.argmax(pred_results)\n",
    "    max_val=max([data for data in pred_results])\n",
    "    for key, val in word_index.items():\n",
    "        if val == val_max:\n",
    "            k = key\n",
    "    return [k]"
   ]
  },
  {
   "cell_type": "code",
   "execution_count": 71,
   "metadata": {},
   "outputs": [],
   "source": [
    "x=\"John left the kitchen . Sandra dropped the football in the garden .\"\n",
    "y=\"Is the football in the garden ?\"\n",
    "#model_predict(x,y,model)\n"
   ]
  },
  {
   "cell_type": "code",
   "execution_count": null,
   "metadata": {},
   "outputs": [],
   "source": []
  },
  {
   "cell_type": "code",
   "execution_count": null,
   "metadata": {},
   "outputs": [
    {
     "name": "stdout",
     "output_type": "stream",
     "text": [
      " * Serving Flask app \"__main__\" (lazy loading)\n",
      " * Environment: production\n",
      "   WARNING: This is a development server. Do not use it in a production deployment.\n",
      "   Use a production WSGI server instead.\n",
      " * Debug mode: on\n"
     ]
    },
    {
     "name": "stderr",
     "output_type": "stream",
     "text": [
      " * Running on http://127.0.0.1:5000/ (Press CTRL+C to quit)\n",
      "127.0.0.1 - - [15/May/2020 16:01:43] \"\u001b[37mGET / HTTP/1.1\u001b[0m\" 200 -\n",
      "127.0.0.1 - - [15/May/2020 16:01:50] \"\u001b[1m\u001b[35mPOST /predict HTTP/1.1\u001b[0m\" 500 -\n"
     ]
    },
    {
     "name": "stdout",
     "output_type": "stream",
     "text": [
      "[array([[ 0,  0,  0,  0,  0,  0,  0,  0,  0,  0,  0,  0,  0,  0,  0,  0,\n",
      "         0,  0,  0,  0,  0,  0,  0,  0,  0,  0,  0,  0,  0,  0,  0,  0,\n",
      "         0,  0,  0,  0,  0,  0,  0,  0,  0,  0,  0,  0,  0,  0,  0,  0,\n",
      "         0,  0,  0,  0,  0,  0,  0,  0,  0,  0,  0,  0,  0,  0,  0,  0,\n",
      "         0,  0,  0,  0,  0,  0,  0,  0,  0,  0,  0,  0,  0,  0,  0,  0,\n",
      "         0,  0,  0,  0,  0,  0,  0,  0,  0,  0,  0,  0,  0,  0,  0,  0,\n",
      "         0,  0,  0,  0,  0,  0,  0,  0,  0,  0,  0,  0,  0,  0,  0,  0,\n",
      "         0,  0,  0,  0,  0,  0,  0,  0,  0,  0,  0,  0,  0,  0,  0,  0,\n",
      "         0,  0,  0,  0,  0,  0,  0,  0,  0,  0,  0,  0,  0,  0,  0, 23,\n",
      "        10, 29, 28, 30, 13,  1, 29,  2, 11, 29,  4, 30]]), array([[29,  2, 11, 29,  4, 21]])]\n"
     ]
    },
    {
     "name": "stderr",
     "output_type": "stream",
     "text": [
      "Traceback (most recent call last):\n",
      "  File \"C:\\Users\\Sanjay Srivastava\\Anaconda3\\lib\\site-packages\\flask\\app.py\", line 2463, in __call__\n",
      "    return self.wsgi_app(environ, start_response)\n",
      "  File \"C:\\Users\\Sanjay Srivastava\\Anaconda3\\lib\\site-packages\\flask\\app.py\", line 2449, in wsgi_app\n",
      "    response = self.handle_exception(e)\n",
      "  File \"C:\\Users\\Sanjay Srivastava\\Anaconda3\\lib\\site-packages\\flask\\app.py\", line 1866, in handle_exception\n",
      "    reraise(exc_type, exc_value, tb)\n",
      "  File \"C:\\Users\\Sanjay Srivastava\\Anaconda3\\lib\\site-packages\\flask\\_compat.py\", line 39, in reraise\n",
      "    raise value\n",
      "  File \"C:\\Users\\Sanjay Srivastava\\Anaconda3\\lib\\site-packages\\flask\\app.py\", line 2446, in wsgi_app\n",
      "    response = self.full_dispatch_request()\n",
      "  File \"C:\\Users\\Sanjay Srivastava\\Anaconda3\\lib\\site-packages\\flask\\app.py\", line 1951, in full_dispatch_request\n",
      "    rv = self.handle_user_exception(e)\n",
      "  File \"C:\\Users\\Sanjay Srivastava\\Anaconda3\\lib\\site-packages\\flask\\app.py\", line 1820, in handle_user_exception\n",
      "    reraise(exc_type, exc_value, tb)\n",
      "  File \"C:\\Users\\Sanjay Srivastava\\Anaconda3\\lib\\site-packages\\flask\\_compat.py\", line 39, in reraise\n",
      "    raise value\n",
      "  File \"C:\\Users\\Sanjay Srivastava\\Anaconda3\\lib\\site-packages\\flask\\app.py\", line 1949, in full_dispatch_request\n",
      "    rv = self.dispatch_request()\n",
      "  File \"C:\\Users\\Sanjay Srivastava\\Anaconda3\\lib\\site-packages\\flask\\app.py\", line 1935, in dispatch_request\n",
      "    return self.view_functions[rule.endpoint](**req.view_args)\n",
      "  File \"<ipython-input-72-cd1bdd2529d6>\", line 11, in upload\n",
      "    \n",
      "  File \"<ipython-input-70-5bd796d3464c>\", line 18, in model_predict\n",
      "    \n",
      "  File \"C:\\Users\\Sanjay Srivastava\\Anaconda3\\lib\\site-packages\\keras\\engine\\training.py\", line 1462, in predict\n",
      "    callbacks=callbacks)\n",
      "  File \"C:\\Users\\Sanjay Srivastava\\Anaconda3\\lib\\site-packages\\keras\\engine\\training_arrays.py\", line 324, in predict_loop\n",
      "    batch_outs = f(ins_batch)\n",
      "  File \"C:\\Users\\Sanjay Srivastava\\Anaconda3\\lib\\site-packages\\tensorflow_core\\python\\keras\\backend.py\", line 3473, in __call__\n",
      "    self._make_callable(feed_arrays, feed_symbols, symbol_vals, session)\n",
      "  File \"C:\\Users\\Sanjay Srivastava\\Anaconda3\\lib\\site-packages\\tensorflow_core\\python\\keras\\backend.py\", line 3410, in _make_callable\n",
      "    callable_fn = session._make_callable_from_options(callable_opts)\n",
      "  File \"C:\\Users\\Sanjay Srivastava\\Anaconda3\\lib\\site-packages\\tensorflow_core\\python\\client\\session.py\", line 1505, in _make_callable_from_options\n",
      "    return BaseSession._Callable(self, callable_options)\n",
      "  File \"C:\\Users\\Sanjay Srivastava\\Anaconda3\\lib\\site-packages\\tensorflow_core\\python\\client\\session.py\", line 1460, in __init__\n",
      "    session._session, options_ptr)\n",
      "tensorflow.python.framework.errors_impl.InvalidArgumentError: Tensor input_1_4:0, specified in either feed_devices or fetch_devices was not found in the Graph\n"
     ]
    }
   ],
   "source": [
    "@app.route('/', methods=['GET'])\n",
    "def index():\n",
    "    # Main page\n",
    "    return \"hello\"\n",
    "\n",
    "@app.route('/predict', methods=['POST'])\n",
    "def upload():\n",
    "    data = request.get_json()\n",
    "    x=data['story']\n",
    "    y=data['question']\n",
    "    pred=model_predict(x,y, model,max_question_len=max_question_len,max_story_len=max_story_len,word_index=word_index)\n",
    "    \n",
    "    #print(pred)\n",
    "    # returning the predictions as json\n",
    "    return data\n",
    "\n",
    "if __name__ == '__main__':\n",
    "    app.run(debug=True, use_reloader=False)"
   ]
  },
  {
   "cell_type": "code",
   "execution_count": null,
   "metadata": {},
   "outputs": [],
   "source": []
  },
  {
   "cell_type": "code",
   "execution_count": 32,
   "metadata": {},
   "outputs": [
    {
     "data": {
      "text/plain": [
       "4"
      ]
     },
     "execution_count": 32,
     "metadata": {},
     "output_type": "execute_result"
    }
   ],
   "source": [
    "\n",
    "x={1:2,3:4}\n",
    "y=x[3]\n",
    "y=10\n",
    "x[1]\n",
    "x[3]"
   ]
  },
  {
   "cell_type": "code",
   "execution_count": null,
   "metadata": {},
   "outputs": [],
   "source": []
  }
 ],
 "metadata": {
  "kernelspec": {
   "display_name": "Python 3",
   "language": "python",
   "name": "python3"
  },
  "language_info": {
   "codemirror_mode": {
    "name": "ipython",
    "version": 3
   },
   "file_extension": ".py",
   "mimetype": "text/x-python",
   "name": "python",
   "nbconvert_exporter": "python",
   "pygments_lexer": "ipython3",
   "version": "3.7.4"
  }
 },
 "nbformat": 4,
 "nbformat_minor": 2
}
