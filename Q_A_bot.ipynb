{
  "nbformat": 4,
  "nbformat_minor": 0,
  "metadata": {
    "colab": {
      "name": "Q/A bot.ipynb",
      "provenance": [],
      "authorship_tag": "ABX9TyMOSg0n1Sa+r5+WUzYHzY7X",
      "include_colab_link": true
    },
    "kernelspec": {
      "name": "python3",
      "display_name": "Python 3"
    },
    "accelerator": "GPU"
  },
  "cells": [
    {
      "cell_type": "markdown",
      "metadata": {
        "id": "view-in-github",
        "colab_type": "text"
      },
      "source": [
        "<a href=\"https://colab.research.google.com/github/prakhar-srivastav/Q-A-Bot-/blob/master/Q_A_bot.ipynb\" target=\"_parent\"><img src=\"https://colab.research.google.com/assets/colab-badge.svg\" alt=\"Open In Colab\"/></a>"
      ]
    },
    {
      "cell_type": "code",
      "metadata": {
        "id": "d_CkudgQn0Uf",
        "colab_type": "code",
        "outputId": "e20d28a9-166b-45bb-fee8-d34def9ebef9",
        "colab": {
          "base_uri": "https://localhost:8080/",
          "height": 123
        }
      },
      "source": [
        "from google.colab import drive\n",
        "drive.mount('/content/drive')\n",
        "import pickle\n",
        "import numpy as np"
      ],
      "execution_count": 0,
      "outputs": [
        {
          "output_type": "stream",
          "text": [
            "Go to this URL in a browser: https://accounts.google.com/o/oauth2/auth?client_id=947318989803-6bn6qk8qdgf4n4g3pfee6491hc0brc4i.apps.googleusercontent.com&redirect_uri=urn%3aietf%3awg%3aoauth%3a2.0%3aoob&response_type=code&scope=email%20https%3a%2f%2fwww.googleapis.com%2fauth%2fdocs.test%20https%3a%2f%2fwww.googleapis.com%2fauth%2fdrive%20https%3a%2f%2fwww.googleapis.com%2fauth%2fdrive.photos.readonly%20https%3a%2f%2fwww.googleapis.com%2fauth%2fpeopleapi.readonly\n",
            "\n",
            "Enter your authorization code:\n",
            "··········\n",
            "Mounted at /content/drive\n"
          ],
          "name": "stdout"
        }
      ]
    },
    {
      "cell_type": "code",
      "metadata": {
        "id": "KK6cBNEipaFY",
        "colab_type": "code",
        "outputId": "73bae472-033b-4121-8716-378eccb43875",
        "colab": {
          "base_uri": "https://localhost:8080/",
          "height": 182
        }
      },
      "source": [
        "import os\n",
        "os.listdir('drive/My Drive/Q A Bot/Dataset/train_qa.txt')"
      ],
      "execution_count": 0,
      "outputs": [
        {
          "output_type": "error",
          "ename": "NotADirectoryError",
          "evalue": "ignored",
          "traceback": [
            "\u001b[0;31m---------------------------------------------------------------------------\u001b[0m",
            "\u001b[0;31mNotADirectoryError\u001b[0m                        Traceback (most recent call last)",
            "\u001b[0;32m<ipython-input-72-5d783e850045>\u001b[0m in \u001b[0;36m<module>\u001b[0;34m()\u001b[0m\n\u001b[1;32m      1\u001b[0m \u001b[0;32mimport\u001b[0m \u001b[0mos\u001b[0m\u001b[0;34m\u001b[0m\u001b[0;34m\u001b[0m\u001b[0m\n\u001b[0;32m----> 2\u001b[0;31m \u001b[0mos\u001b[0m\u001b[0;34m.\u001b[0m\u001b[0mlistdir\u001b[0m\u001b[0;34m(\u001b[0m\u001b[0;34m'drive/My Drive/Q A Bot/Dataset/train_qa.txt'\u001b[0m\u001b[0;34m)\u001b[0m\u001b[0;34m\u001b[0m\u001b[0;34m\u001b[0m\u001b[0m\n\u001b[0m",
            "\u001b[0;31mNotADirectoryError\u001b[0m: [Errno 20] Not a directory: 'drive/My Drive/Q A Bot/Dataset/train_qa.txt'"
          ]
        }
      ]
    },
    {
      "cell_type": "markdown",
      "metadata": {
        "id": "WzzyQ3NXoA7K",
        "colab_type": "text"
      },
      "source": [
        ""
      ]
    },
    {
      "cell_type": "code",
      "metadata": {
        "id": "b_QCYFOAoKzQ",
        "colab_type": "code",
        "colab": {}
      },
      "source": [
        "with open(\"drive/My Drive/Q A Bot/Dataset/train_qa.txt\", \"rb\") as fp:   \n",
        "    train_data =  pickle.load(fp)"
      ],
      "execution_count": 0,
      "outputs": []
    },
    {
      "cell_type": "code",
      "metadata": {
        "id": "09yqX-D9oLep",
        "colab_type": "code",
        "colab": {}
      },
      "source": [
        "with open(\"drive/My Drive/Q A Bot/Dataset/test_qa.txt\", \"rb\") as fp:   \n",
        "    test_data =  pickle.load(fp)"
      ],
      "execution_count": 0,
      "outputs": []
    },
    {
      "cell_type": "code",
      "metadata": {
        "id": "Nb7zkPuqoSO9",
        "colab_type": "code",
        "outputId": "35bafc8a-ba7a-4064-867d-74a73256fa09",
        "colab": {
          "base_uri": "https://localhost:8080/",
          "height": 259
        }
      },
      "source": [
        "train_data[0]"
      ],
      "execution_count": 0,
      "outputs": [
        {
          "output_type": "execute_result",
          "data": {
            "text/plain": [
              "(['Mary',\n",
              "  'moved',\n",
              "  'to',\n",
              "  'the',\n",
              "  'bathroom',\n",
              "  '.',\n",
              "  'Sandra',\n",
              "  'journeyed',\n",
              "  'to',\n",
              "  'the',\n",
              "  'bedroom',\n",
              "  '.'],\n",
              " ['Is', 'Sandra', 'in', 'the', 'hallway', '?'],\n",
              " 'no')"
            ]
          },
          "metadata": {
            "tags": []
          },
          "execution_count": 75
        }
      ]
    },
    {
      "cell_type": "code",
      "metadata": {
        "id": "fGTF5VvLqIz5",
        "colab_type": "code",
        "colab": {}
      },
      "source": [
        "vocab = set()"
      ],
      "execution_count": 0,
      "outputs": []
    },
    {
      "cell_type": "code",
      "metadata": {
        "id": "rWpFS-lcqOyD",
        "colab_type": "code",
        "colab": {}
      },
      "source": [
        "all_data = test_data + train_data"
      ],
      "execution_count": 0,
      "outputs": []
    },
    {
      "cell_type": "code",
      "metadata": {
        "id": "he71CmhLqSbW",
        "colab_type": "code",
        "colab": {}
      },
      "source": [
        "for story, question , answer in all_data:\n",
        "    vocab = vocab.union(set(story))\n",
        "    vocab = vocab.union(set(question))"
      ],
      "execution_count": 0,
      "outputs": []
    },
    {
      "cell_type": "code",
      "metadata": {
        "id": "0tKCx8ZOqWSq",
        "colab_type": "code",
        "colab": {}
      },
      "source": [
        "vocab.add('no')\n",
        "vocab.add('yes')"
      ],
      "execution_count": 0,
      "outputs": []
    },
    {
      "cell_type": "code",
      "metadata": {
        "id": "YY6R50JMqYeO",
        "colab_type": "code",
        "colab": {}
      },
      "source": [
        "vocab_size = len(vocab) + 1"
      ],
      "execution_count": 0,
      "outputs": []
    },
    {
      "cell_type": "code",
      "metadata": {
        "id": "6cLgbuNVqpN8",
        "colab_type": "code",
        "outputId": "c1c0509c-eb0d-4855-e4e4-3d6412abaf89",
        "colab": {
          "base_uri": "https://localhost:8080/",
          "height": 34
        }
      },
      "source": [
        "max_story_len = max([len(data[0]) for data in all_data])\n",
        "max_story_len\n"
      ],
      "execution_count": 0,
      "outputs": [
        {
          "output_type": "execute_result",
          "data": {
            "text/plain": [
              "156"
            ]
          },
          "metadata": {
            "tags": []
          },
          "execution_count": 169
        }
      ]
    },
    {
      "cell_type": "code",
      "metadata": {
        "id": "PgP7ANbtqxVf",
        "colab_type": "code",
        "outputId": "e2b74702-e662-48ca-dad8-009811e16b59",
        "colab": {
          "base_uri": "https://localhost:8080/",
          "height": 34
        }
      },
      "source": [
        "max_question_len = max([len(data[1]) for data in all_data])\n",
        "max_question_len"
      ],
      "execution_count": 0,
      "outputs": [
        {
          "output_type": "execute_result",
          "data": {
            "text/plain": [
              "6"
            ]
          },
          "metadata": {
            "tags": []
          },
          "execution_count": 170
        }
      ]
    },
    {
      "cell_type": "code",
      "metadata": {
        "id": "DgrbTZ3LqzAn",
        "colab_type": "code",
        "colab": {}
      },
      "source": [
        "from keras.preprocessing.sequence import pad_sequences\n",
        "from keras.preprocessing.text import Tokenizer"
      ],
      "execution_count": 0,
      "outputs": []
    },
    {
      "cell_type": "code",
      "metadata": {
        "id": "Xx5YUVNaq9xP",
        "colab_type": "code",
        "colab": {}
      },
      "source": [
        "tokenizer = Tokenizer(filters=[])\n",
        "tokenizer.fit_on_texts(vocab)"
      ],
      "execution_count": 0,
      "outputs": []
    },
    {
      "cell_type": "code",
      "metadata": {
        "id": "YRz9OqfHrBAn",
        "colab_type": "code",
        "outputId": "e9d221e2-0748-4f6e-9466-0456a9c34f8a",
        "colab": {
          "base_uri": "https://localhost:8080/",
          "height": 658
        }
      },
      "source": [
        "tokenizer.word_index"
      ],
      "execution_count": 0,
      "outputs": [
        {
          "output_type": "execute_result",
          "data": {
            "text/plain": [
              "{'.': 30,\n",
              " '?': 21,\n",
              " 'apple': 19,\n",
              " 'back': 20,\n",
              " 'bathroom': 31,\n",
              " 'bedroom': 3,\n",
              " 'daniel': 5,\n",
              " 'discarded': 32,\n",
              " 'down': 24,\n",
              " 'dropped': 1,\n",
              " 'football': 2,\n",
              " 'garden': 4,\n",
              " 'got': 36,\n",
              " 'grabbed': 25,\n",
              " 'hallway': 27,\n",
              " 'in': 11,\n",
              " 'is': 17,\n",
              " 'john': 23,\n",
              " 'journeyed': 12,\n",
              " 'kitchen': 28,\n",
              " 'left': 10,\n",
              " 'mary': 14,\n",
              " 'milk': 35,\n",
              " 'moved': 26,\n",
              " 'no': 8,\n",
              " 'office': 15,\n",
              " 'picked': 16,\n",
              " 'put': 33,\n",
              " 'sandra': 13,\n",
              " 'the': 29,\n",
              " 'there': 22,\n",
              " 'to': 7,\n",
              " 'took': 34,\n",
              " 'travelled': 18,\n",
              " 'up': 37,\n",
              " 'went': 6,\n",
              " 'yes': 9}"
            ]
          },
          "metadata": {
            "tags": []
          },
          "execution_count": 162
        }
      ]
    },
    {
      "cell_type": "code",
      "metadata": {
        "id": "5zBICS4-rC0Y",
        "colab_type": "code",
        "colab": {}
      },
      "source": [
        "train_story_text = []\n",
        "train_question_text = []\n",
        "train_answers = []\n",
        "\n",
        "for story,question,answer in train_data:\n",
        "    train_story_text.append(story)\n",
        "    train_question_text.append(question)"
      ],
      "execution_count": 0,
      "outputs": []
    },
    {
      "cell_type": "code",
      "metadata": {
        "id": "D62tBqMFL3v6",
        "colab_type": "code",
        "colab": {}
      },
      "source": [
        "import json\n",
        "data=tokenizer.word_index\n",
        "\n",
        "with open('data.json', 'w') as fp:\n",
        "    json.dump(data, fp)"
      ],
      "execution_count": 0,
      "outputs": []
    },
    {
      "cell_type": "code",
      "metadata": {
        "id": "Rhrs8lRsrHXI",
        "colab_type": "code",
        "colab": {}
      },
      "source": [
        "train_story_seq = tokenizer.texts_to_sequences(train_story_text)"
      ],
      "execution_count": 0,
      "outputs": []
    },
    {
      "cell_type": "code",
      "metadata": {
        "id": "kwXikVBgrJ6t",
        "colab_type": "code",
        "colab": {}
      },
      "source": [
        "def vectorize_stories(data, word_index=tokenizer.word_index, max_story_len=max_story_len,max_question_len=max_question_len):\n",
        "    \n",
        "    \n",
        "    \n",
        "    X = []\n",
        "    Xq = []\n",
        "    Y = []\n",
        "    \n",
        "  \n",
        "    for story, query, answer in data:\n",
        "        \n",
        "        \n",
        "        x = [word_index[word.lower()] for word in story]\n",
        "        xq = [word_index[word.lower()] for word in query]  \n",
        "        y = np.zeros(len(word_index) + 1)\n",
        "        \n",
        "        y[word_index[answer]] = 1\n",
        "        X.append(x)\n",
        "        Xq.append(xq)\n",
        "        Y.append(y)\n",
        "        \n",
        "    return (pad_sequences(X, maxlen=max_story_len),pad_sequences(Xq, maxlen=max_question_len), np.array(Y))"
      ],
      "execution_count": 0,
      "outputs": []
    },
    {
      "cell_type": "code",
      "metadata": {
        "id": "stnK6qM0tGI5",
        "colab_type": "code",
        "colab": {}
      },
      "source": [
        "inputs_train, queries_train, answers_train = vectorize_stories(train_data)"
      ],
      "execution_count": 0,
      "outputs": []
    },
    {
      "cell_type": "code",
      "metadata": {
        "id": "tjJlgG9ktMw1",
        "colab_type": "code",
        "colab": {}
      },
      "source": [
        "inputs_test, queries_test, answers_test = vectorize_stories(test_data)"
      ],
      "execution_count": 0,
      "outputs": []
    },
    {
      "cell_type": "code",
      "metadata": {
        "id": "vc-V5SZDxbfR",
        "colab_type": "code",
        "colab": {}
      },
      "source": [
        "from keras.models import Sequential, Model\n",
        "from keras.layers.embeddings import Embedding\n",
        "from keras.layers import Input, Activation, Dense, Permute, Dropout\n",
        "from keras.layers import add, dot, concatenate\n",
        "from keras.layers import LSTM"
      ],
      "execution_count": 0,
      "outputs": []
    },
    {
      "cell_type": "code",
      "metadata": {
        "id": "4pxqtt7kxfQ9",
        "colab_type": "code",
        "colab": {}
      },
      "source": [
        "input_sequence = Input((max_story_len,))\n",
        "question = Input((max_question_len,))"
      ],
      "execution_count": 0,
      "outputs": []
    },
    {
      "cell_type": "code",
      "metadata": {
        "id": "eLBrgLMaxvZS",
        "colab_type": "code",
        "colab": {}
      },
      "source": [
        "#Encoder M\n",
        "input_encoder_m = Sequential()\n",
        "input_encoder_m.add(Embedding(input_dim=vocab_size,output_dim=64))\n",
        "input_encoder_m.add(Dropout(0.3))"
      ],
      "execution_count": 0,
      "outputs": []
    },
    {
      "cell_type": "code",
      "metadata": {
        "id": "YQ6njR_rznPE",
        "colab_type": "code",
        "colab": {}
      },
      "source": [
        "#Encoder C\n",
        "input_encoder_c = Sequential()\n",
        "input_encoder_c.add(Embedding(input_dim=vocab_size,output_dim=max_question_len))\n",
        "input_encoder_c.add(Dropout(0.3) )"
      ],
      "execution_count": 0,
      "outputs": []
    },
    {
      "cell_type": "code",
      "metadata": {
        "id": "pEFg9pPkzn9T",
        "colab_type": "code",
        "colab": {}
      },
      "source": [
        "#Question Encoder\n",
        "question_encoder = Sequential()\n",
        "question_encoder.add(Embedding(input_dim=vocab_size,\n",
        "                               output_dim=64,\n",
        "                               input_length=max_question_len))\n",
        "question_encoder.add(Dropout(0.3))"
      ],
      "execution_count": 0,
      "outputs": []
    },
    {
      "cell_type": "code",
      "metadata": {
        "id": "gV2eYkAc0AA1",
        "colab_type": "code",
        "colab": {}
      },
      "source": [
        "input_encoded_m = input_encoder_m(input_sequence)\n",
        "input_encoded_c = input_encoder_c(input_sequence)\n",
        "question_encoded = question_encoder(question)"
      ],
      "execution_count": 0,
      "outputs": []
    },
    {
      "cell_type": "code",
      "metadata": {
        "id": "YTA3q0RO0G3x",
        "colab_type": "code",
        "colab": {}
      },
      "source": [
        "match = dot([input_encoded_m, question_encoded], axes=(2, 2))\n",
        "match = Activation('softmax')(match)"
      ],
      "execution_count": 0,
      "outputs": []
    },
    {
      "cell_type": "code",
      "metadata": {
        "id": "rq-PWyJs0Sbx",
        "colab_type": "code",
        "colab": {}
      },
      "source": [
        "\n",
        "response = add([match, input_encoded_c])  \n",
        "response = Permute((2, 1))(response) "
      ],
      "execution_count": 0,
      "outputs": []
    },
    {
      "cell_type": "code",
      "metadata": {
        "id": "_qWcECXy0dMD",
        "colab_type": "code",
        "colab": {}
      },
      "source": [
        "answer = concatenate([response, question_encoded])"
      ],
      "execution_count": 0,
      "outputs": []
    },
    {
      "cell_type": "code",
      "metadata": {
        "id": "LRoPq9Jj0mr2",
        "colab_type": "code",
        "outputId": "a0ba146f-f5b5-4a8b-e809-73197c845ab7",
        "colab": {
          "base_uri": "https://localhost:8080/",
          "height": 34
        }
      },
      "source": [
        "answer"
      ],
      "execution_count": 0,
      "outputs": [
        {
          "output_type": "execute_result",
          "data": {
            "text/plain": [
              "<tf.Tensor 'concatenate_1/concat:0' shape=(None, 6, 220) dtype=float32>"
            ]
          },
          "metadata": {
            "tags": []
          },
          "execution_count": 119
        }
      ]
    },
    {
      "cell_type": "code",
      "metadata": {
        "id": "V-sqJHZ40o_g",
        "colab_type": "code",
        "colab": {}
      },
      "source": [
        "answer = LSTM(32)(answer)"
      ],
      "execution_count": 0,
      "outputs": []
    },
    {
      "cell_type": "code",
      "metadata": {
        "id": "UyTx2vjX0sO2",
        "colab_type": "code",
        "colab": {}
      },
      "source": [
        "answer = Dropout(0.5)(answer)\n",
        "answer = Dense(vocab_size)(answer)"
      ],
      "execution_count": 0,
      "outputs": []
    },
    {
      "cell_type": "code",
      "metadata": {
        "id": "4YgQagu90wXi",
        "colab_type": "code",
        "colab": {}
      },
      "source": [
        "answer = Activation('softmax')(answer)"
      ],
      "execution_count": 0,
      "outputs": []
    },
    {
      "cell_type": "code",
      "metadata": {
        "id": "47o3N1PM0z_Q",
        "colab_type": "code",
        "colab": {}
      },
      "source": [
        "model = Model([input_sequence, question], answer)\n",
        "model.compile(optimizer='rmsprop', loss='categorical_crossentropy',\n",
        "              metrics=['accuracy'])"
      ],
      "execution_count": 0,
      "outputs": []
    },
    {
      "cell_type": "code",
      "metadata": {
        "id": "Dsk8PJAE03Py",
        "colab_type": "code",
        "outputId": "dd26a4de-e6ad-49bc-8ea5-d2999071a3b7",
        "colab": {
          "base_uri": "https://localhost:8080/",
          "height": 693
        }
      },
      "source": [
        "model.summary()"
      ],
      "execution_count": 0,
      "outputs": [
        {
          "output_type": "stream",
          "text": [
            "Model: \"model_1\"\n",
            "__________________________________________________________________________________________________\n",
            "Layer (type)                    Output Shape         Param #     Connected to                     \n",
            "==================================================================================================\n",
            "input_1 (InputLayer)            (None, 156)          0                                            \n",
            "__________________________________________________________________________________________________\n",
            "input_2 (InputLayer)            (None, 6)            0                                            \n",
            "__________________________________________________________________________________________________\n",
            "sequential_1 (Sequential)       multiple             2432        input_1[0][0]                    \n",
            "__________________________________________________________________________________________________\n",
            "sequential_3 (Sequential)       (None, 6, 64)        2432        input_2[0][0]                    \n",
            "__________________________________________________________________________________________________\n",
            "dot_1 (Dot)                     (None, 156, 6)       0           sequential_1[1][0]               \n",
            "                                                                 sequential_3[1][0]               \n",
            "__________________________________________________________________________________________________\n",
            "activation_1 (Activation)       (None, 156, 6)       0           dot_1[0][0]                      \n",
            "__________________________________________________________________________________________________\n",
            "sequential_2 (Sequential)       multiple             228         input_1[0][0]                    \n",
            "__________________________________________________________________________________________________\n",
            "add_1 (Add)                     (None, 156, 6)       0           activation_1[0][0]               \n",
            "                                                                 sequential_2[1][0]               \n",
            "__________________________________________________________________________________________________\n",
            "permute_1 (Permute)             (None, 6, 156)       0           add_1[0][0]                      \n",
            "__________________________________________________________________________________________________\n",
            "concatenate_1 (Concatenate)     (None, 6, 220)       0           permute_1[0][0]                  \n",
            "                                                                 sequential_3[1][0]               \n",
            "__________________________________________________________________________________________________\n",
            "lstm_1 (LSTM)                   (None, 32)           32384       concatenate_1[0][0]              \n",
            "__________________________________________________________________________________________________\n",
            "dropout_4 (Dropout)             (None, 32)           0           lstm_1[0][0]                     \n",
            "__________________________________________________________________________________________________\n",
            "dense_1 (Dense)                 (None, 38)           1254        dropout_4[0][0]                  \n",
            "__________________________________________________________________________________________________\n",
            "activation_2 (Activation)       (None, 38)           0           dense_1[0][0]                    \n",
            "==================================================================================================\n",
            "Total params: 38,730\n",
            "Trainable params: 38,730\n",
            "Non-trainable params: 0\n",
            "__________________________________________________________________________________________________\n"
          ],
          "name": "stdout"
        }
      ]
    },
    {
      "cell_type": "code",
      "metadata": {
        "id": "vKQFlelA06lV",
        "colab_type": "code",
        "outputId": "9c1e3dc0-5340-49f6-bbd8-aab4c994742c",
        "colab": {
          "base_uri": "https://localhost:8080/",
          "height": 1000
        }
      },
      "source": [
        "history = model.fit([inputs_train, queries_train], answers_train,batch_size=32,epochs=120,validation_data=([inputs_test, queries_test], answers_test))"
      ],
      "execution_count": 0,
      "outputs": [
        {
          "output_type": "stream",
          "text": [
            "/usr/local/lib/python3.6/dist-packages/tensorflow/python/framework/indexed_slices.py:434: UserWarning: Converting sparse IndexedSlices to a dense Tensor of unknown shape. This may consume a large amount of memory.\n",
            "  \"Converting sparse IndexedSlices to a dense Tensor of unknown shape. \"\n"
          ],
          "name": "stderr"
        },
        {
          "output_type": "stream",
          "text": [
            "Train on 10000 samples, validate on 1000 samples\n",
            "Epoch 1/120\n",
            "10000/10000 [==============================] - 8s 770us/step - loss: 0.8488 - accuracy: 0.4936 - val_loss: 0.7022 - val_accuracy: 0.4970\n",
            "Epoch 2/120\n",
            "10000/10000 [==============================] - 5s 509us/step - loss: 0.7001 - accuracy: 0.4990 - val_loss: 0.6944 - val_accuracy: 0.5030\n",
            "Epoch 3/120\n",
            "10000/10000 [==============================] - 6s 562us/step - loss: 0.6954 - accuracy: 0.5015 - val_loss: 0.6937 - val_accuracy: 0.4970\n",
            "Epoch 4/120\n",
            "10000/10000 [==============================] - 5s 546us/step - loss: 0.6954 - accuracy: 0.4968 - val_loss: 0.6932 - val_accuracy: 0.5030\n",
            "Epoch 5/120\n",
            "10000/10000 [==============================] - 6s 551us/step - loss: 0.6945 - accuracy: 0.4956 - val_loss: 0.6977 - val_accuracy: 0.4970\n",
            "Epoch 6/120\n",
            "10000/10000 [==============================] - 5s 531us/step - loss: 0.6945 - accuracy: 0.5073 - val_loss: 0.6934 - val_accuracy: 0.4970\n",
            "Epoch 7/120\n",
            "10000/10000 [==============================] - 5s 502us/step - loss: 0.6940 - accuracy: 0.5050 - val_loss: 0.6935 - val_accuracy: 0.4970\n",
            "Epoch 8/120\n",
            "10000/10000 [==============================] - 5s 521us/step - loss: 0.6942 - accuracy: 0.5037 - val_loss: 0.6947 - val_accuracy: 0.4970\n",
            "Epoch 9/120\n",
            "10000/10000 [==============================] - 5s 506us/step - loss: 0.6941 - accuracy: 0.5047 - val_loss: 0.6939 - val_accuracy: 0.4990\n",
            "Epoch 10/120\n",
            "10000/10000 [==============================] - 5s 524us/step - loss: 0.6929 - accuracy: 0.5080 - val_loss: 0.6981 - val_accuracy: 0.4770\n",
            "Epoch 11/120\n",
            "10000/10000 [==============================] - 5s 503us/step - loss: 0.6888 - accuracy: 0.5275 - val_loss: 0.6889 - val_accuracy: 0.4990\n",
            "Epoch 12/120\n",
            "10000/10000 [==============================] - 5s 511us/step - loss: 0.6720 - accuracy: 0.5862 - val_loss: 0.6453 - val_accuracy: 0.6710\n",
            "Epoch 13/120\n",
            "10000/10000 [==============================] - 5s 526us/step - loss: 0.6304 - accuracy: 0.6589 - val_loss: 0.5829 - val_accuracy: 0.7070\n",
            "Epoch 14/120\n",
            "10000/10000 [==============================] - 5s 516us/step - loss: 0.5784 - accuracy: 0.7033 - val_loss: 0.5481 - val_accuracy: 0.7390\n",
            "Epoch 15/120\n",
            "10000/10000 [==============================] - 5s 493us/step - loss: 0.5388 - accuracy: 0.7355 - val_loss: 0.4905 - val_accuracy: 0.7870\n",
            "Epoch 16/120\n",
            "10000/10000 [==============================] - 5s 517us/step - loss: 0.4865 - accuracy: 0.7764 - val_loss: 0.4598 - val_accuracy: 0.7890\n",
            "Epoch 17/120\n",
            "10000/10000 [==============================] - 5s 546us/step - loss: 0.4756 - accuracy: 0.7840 - val_loss: 0.4634 - val_accuracy: 0.7900\n",
            "Epoch 18/120\n",
            "10000/10000 [==============================] - 5s 497us/step - loss: 0.4533 - accuracy: 0.7966 - val_loss: 0.4424 - val_accuracy: 0.7940\n",
            "Epoch 19/120\n",
            "10000/10000 [==============================] - 5s 529us/step - loss: 0.4442 - accuracy: 0.7956 - val_loss: 0.4364 - val_accuracy: 0.7920\n",
            "Epoch 20/120\n",
            "10000/10000 [==============================] - 5s 529us/step - loss: 0.4344 - accuracy: 0.8031 - val_loss: 0.4247 - val_accuracy: 0.7980\n",
            "Epoch 21/120\n",
            "10000/10000 [==============================] - 6s 577us/step - loss: 0.4221 - accuracy: 0.8082 - val_loss: 0.4221 - val_accuracy: 0.8150\n",
            "Epoch 22/120\n",
            "10000/10000 [==============================] - 5s 533us/step - loss: 0.4070 - accuracy: 0.8236 - val_loss: 0.4111 - val_accuracy: 0.8150\n",
            "Epoch 23/120\n",
            "10000/10000 [==============================] - 6s 563us/step - loss: 0.3926 - accuracy: 0.8336 - val_loss: 0.3965 - val_accuracy: 0.8240\n",
            "Epoch 24/120\n",
            "10000/10000 [==============================] - 6s 560us/step - loss: 0.3775 - accuracy: 0.8413 - val_loss: 0.3972 - val_accuracy: 0.8210\n",
            "Epoch 25/120\n",
            "10000/10000 [==============================] - 5s 534us/step - loss: 0.3658 - accuracy: 0.8462 - val_loss: 0.3888 - val_accuracy: 0.8340\n",
            "Epoch 26/120\n",
            "10000/10000 [==============================] - 5s 537us/step - loss: 0.3598 - accuracy: 0.8504 - val_loss: 0.4014 - val_accuracy: 0.8330\n",
            "Epoch 27/120\n",
            "10000/10000 [==============================] - 5s 511us/step - loss: 0.3512 - accuracy: 0.8546 - val_loss: 0.3758 - val_accuracy: 0.8430\n",
            "Epoch 28/120\n",
            "10000/10000 [==============================] - 5s 544us/step - loss: 0.3451 - accuracy: 0.8569 - val_loss: 0.3879 - val_accuracy: 0.8330\n",
            "Epoch 29/120\n",
            "10000/10000 [==============================] - 5s 514us/step - loss: 0.3401 - accuracy: 0.8595 - val_loss: 0.3843 - val_accuracy: 0.8370\n",
            "Epoch 30/120\n",
            "10000/10000 [==============================] - 5s 549us/step - loss: 0.3358 - accuracy: 0.8610 - val_loss: 0.3815 - val_accuracy: 0.8340\n",
            "Epoch 31/120\n",
            "10000/10000 [==============================] - 6s 554us/step - loss: 0.3359 - accuracy: 0.8587 - val_loss: 0.3728 - val_accuracy: 0.8420\n",
            "Epoch 32/120\n",
            "10000/10000 [==============================] - 5s 508us/step - loss: 0.3285 - accuracy: 0.8616 - val_loss: 0.3838 - val_accuracy: 0.8420\n",
            "Epoch 33/120\n",
            "10000/10000 [==============================] - 5s 529us/step - loss: 0.3258 - accuracy: 0.8615 - val_loss: 0.3898 - val_accuracy: 0.8370\n",
            "Epoch 34/120\n",
            "10000/10000 [==============================] - 6s 553us/step - loss: 0.3225 - accuracy: 0.8655 - val_loss: 0.3720 - val_accuracy: 0.8370\n",
            "Epoch 35/120\n",
            "10000/10000 [==============================] - 6s 562us/step - loss: 0.3211 - accuracy: 0.8681 - val_loss: 0.3914 - val_accuracy: 0.8390\n",
            "Epoch 36/120\n",
            "10000/10000 [==============================] - 5s 527us/step - loss: 0.3176 - accuracy: 0.8673 - val_loss: 0.3735 - val_accuracy: 0.8240\n",
            "Epoch 37/120\n",
            "10000/10000 [==============================] - 5s 508us/step - loss: 0.3160 - accuracy: 0.8642 - val_loss: 0.3546 - val_accuracy: 0.8380\n",
            "Epoch 38/120\n",
            "10000/10000 [==============================] - 5s 494us/step - loss: 0.3125 - accuracy: 0.8656 - val_loss: 0.3691 - val_accuracy: 0.8380\n",
            "Epoch 39/120\n",
            "10000/10000 [==============================] - 5s 507us/step - loss: 0.3099 - accuracy: 0.8682 - val_loss: 0.3705 - val_accuracy: 0.8400\n",
            "Epoch 40/120\n",
            "10000/10000 [==============================] - 5s 511us/step - loss: 0.3073 - accuracy: 0.8693 - val_loss: 0.3870 - val_accuracy: 0.8280\n",
            "Epoch 41/120\n",
            "10000/10000 [==============================] - 5s 525us/step - loss: 0.3059 - accuracy: 0.8685 - val_loss: 0.3622 - val_accuracy: 0.8300\n",
            "Epoch 42/120\n",
            "10000/10000 [==============================] - 5s 523us/step - loss: 0.3038 - accuracy: 0.8718 - val_loss: 0.3622 - val_accuracy: 0.8360\n",
            "Epoch 43/120\n",
            "10000/10000 [==============================] - 5s 522us/step - loss: 0.3055 - accuracy: 0.8711 - val_loss: 0.3698 - val_accuracy: 0.8370\n",
            "Epoch 44/120\n",
            "10000/10000 [==============================] - 6s 557us/step - loss: 0.3030 - accuracy: 0.8702 - val_loss: 0.3754 - val_accuracy: 0.8390\n",
            "Epoch 45/120\n",
            "10000/10000 [==============================] - 5s 501us/step - loss: 0.3053 - accuracy: 0.8699 - val_loss: 0.3817 - val_accuracy: 0.8320\n",
            "Epoch 46/120\n",
            "10000/10000 [==============================] - 5s 545us/step - loss: 0.2969 - accuracy: 0.8721 - val_loss: 0.3636 - val_accuracy: 0.8450\n",
            "Epoch 47/120\n",
            "10000/10000 [==============================] - 5s 515us/step - loss: 0.2972 - accuracy: 0.8744 - val_loss: 0.3665 - val_accuracy: 0.8400\n",
            "Epoch 48/120\n",
            "10000/10000 [==============================] - 5s 522us/step - loss: 0.2970 - accuracy: 0.8713 - val_loss: 0.3676 - val_accuracy: 0.8280\n",
            "Epoch 49/120\n",
            "10000/10000 [==============================] - 5s 510us/step - loss: 0.2989 - accuracy: 0.8704 - val_loss: 0.3665 - val_accuracy: 0.8350\n",
            "Epoch 50/120\n",
            "10000/10000 [==============================] - 5s 509us/step - loss: 0.3016 - accuracy: 0.8709 - val_loss: 0.3581 - val_accuracy: 0.8350\n",
            "Epoch 51/120\n",
            "10000/10000 [==============================] - 5s 509us/step - loss: 0.2942 - accuracy: 0.8716 - val_loss: 0.3627 - val_accuracy: 0.8420\n",
            "Epoch 52/120\n",
            "10000/10000 [==============================] - 5s 539us/step - loss: 0.2936 - accuracy: 0.8757 - val_loss: 0.3662 - val_accuracy: 0.8380\n",
            "Epoch 53/120\n",
            "10000/10000 [==============================] - 5s 517us/step - loss: 0.2922 - accuracy: 0.8735 - val_loss: 0.3550 - val_accuracy: 0.8370\n",
            "Epoch 54/120\n",
            "10000/10000 [==============================] - 6s 591us/step - loss: 0.2932 - accuracy: 0.8752 - val_loss: 0.3492 - val_accuracy: 0.8370\n",
            "Epoch 55/120\n",
            "10000/10000 [==============================] - 5s 523us/step - loss: 0.2862 - accuracy: 0.8758 - val_loss: 0.3596 - val_accuracy: 0.8290\n",
            "Epoch 56/120\n",
            "10000/10000 [==============================] - 5s 528us/step - loss: 0.2859 - accuracy: 0.8797 - val_loss: 0.3730 - val_accuracy: 0.8340\n",
            "Epoch 57/120\n",
            "10000/10000 [==============================] - 5s 510us/step - loss: 0.2862 - accuracy: 0.8796 - val_loss: 0.3718 - val_accuracy: 0.8380\n",
            "Epoch 58/120\n",
            "10000/10000 [==============================] - 5s 498us/step - loss: 0.2888 - accuracy: 0.8751 - val_loss: 0.3718 - val_accuracy: 0.8310\n",
            "Epoch 59/120\n",
            "10000/10000 [==============================] - 5s 509us/step - loss: 0.2825 - accuracy: 0.8780 - val_loss: 0.3831 - val_accuracy: 0.8310\n",
            "Epoch 60/120\n",
            "10000/10000 [==============================] - 5s 508us/step - loss: 0.2830 - accuracy: 0.8807 - val_loss: 0.3725 - val_accuracy: 0.8300\n",
            "Epoch 61/120\n",
            "10000/10000 [==============================] - 5s 508us/step - loss: 0.2829 - accuracy: 0.8796 - val_loss: 0.3669 - val_accuracy: 0.8340\n",
            "Epoch 62/120\n",
            "10000/10000 [==============================] - 5s 534us/step - loss: 0.2804 - accuracy: 0.8798 - val_loss: 0.3627 - val_accuracy: 0.8300\n",
            "Epoch 63/120\n",
            "10000/10000 [==============================] - 5s 542us/step - loss: 0.2787 - accuracy: 0.8813 - val_loss: 0.3688 - val_accuracy: 0.8450\n",
            "Epoch 64/120\n",
            "10000/10000 [==============================] - 5s 517us/step - loss: 0.2789 - accuracy: 0.8808 - val_loss: 0.3854 - val_accuracy: 0.8370\n",
            "Epoch 65/120\n",
            "10000/10000 [==============================] - 5s 519us/step - loss: 0.2754 - accuracy: 0.8845 - val_loss: 0.3863 - val_accuracy: 0.8380\n",
            "Epoch 66/120\n",
            "10000/10000 [==============================] - 5s 535us/step - loss: 0.2763 - accuracy: 0.8818 - val_loss: 0.3816 - val_accuracy: 0.8390\n",
            "Epoch 67/120\n",
            "10000/10000 [==============================] - 5s 529us/step - loss: 0.2706 - accuracy: 0.8836 - val_loss: 0.3856 - val_accuracy: 0.8370\n",
            "Epoch 68/120\n",
            "10000/10000 [==============================] - 5s 510us/step - loss: 0.2717 - accuracy: 0.8833 - val_loss: 0.4180 - val_accuracy: 0.8240\n",
            "Epoch 69/120\n",
            "10000/10000 [==============================] - 5s 540us/step - loss: 0.2705 - accuracy: 0.8855 - val_loss: 0.4100 - val_accuracy: 0.8280\n",
            "Epoch 70/120\n",
            "10000/10000 [==============================] - 5s 515us/step - loss: 0.2644 - accuracy: 0.8881 - val_loss: 0.4158 - val_accuracy: 0.8150\n",
            "Epoch 71/120\n",
            "10000/10000 [==============================] - 5s 530us/step - loss: 0.2682 - accuracy: 0.8856 - val_loss: 0.4042 - val_accuracy: 0.8340\n",
            "Epoch 72/120\n",
            "10000/10000 [==============================] - 6s 555us/step - loss: 0.2646 - accuracy: 0.8885 - val_loss: 0.3780 - val_accuracy: 0.8310\n",
            "Epoch 73/120\n",
            "10000/10000 [==============================] - 6s 571us/step - loss: 0.2660 - accuracy: 0.8870 - val_loss: 0.4071 - val_accuracy: 0.8310\n",
            "Epoch 74/120\n",
            "10000/10000 [==============================] - 5s 491us/step - loss: 0.2637 - accuracy: 0.8888 - val_loss: 0.4024 - val_accuracy: 0.8280\n",
            "Epoch 75/120\n",
            "10000/10000 [==============================] - 5s 496us/step - loss: 0.2552 - accuracy: 0.8909 - val_loss: 0.4088 - val_accuracy: 0.8260\n",
            "Epoch 76/120\n",
            "10000/10000 [==============================] - 5s 505us/step - loss: 0.2567 - accuracy: 0.8902 - val_loss: 0.4380 - val_accuracy: 0.8350\n",
            "Epoch 77/120\n",
            "10000/10000 [==============================] - 5s 527us/step - loss: 0.2622 - accuracy: 0.8880 - val_loss: 0.4164 - val_accuracy: 0.8250\n",
            "Epoch 78/120\n",
            "10000/10000 [==============================] - 6s 552us/step - loss: 0.2583 - accuracy: 0.8908 - val_loss: 0.4054 - val_accuracy: 0.8350\n",
            "Epoch 79/120\n",
            "10000/10000 [==============================] - 5s 504us/step - loss: 0.2604 - accuracy: 0.8889 - val_loss: 0.4084 - val_accuracy: 0.8290\n",
            "Epoch 80/120\n",
            "10000/10000 [==============================] - 5s 542us/step - loss: 0.2536 - accuracy: 0.8929 - val_loss: 0.4286 - val_accuracy: 0.8180\n",
            "Epoch 81/120\n",
            "10000/10000 [==============================] - 5s 508us/step - loss: 0.2466 - accuracy: 0.8942 - val_loss: 0.4417 - val_accuracy: 0.8060\n",
            "Epoch 82/120\n",
            "10000/10000 [==============================] - 5s 499us/step - loss: 0.2479 - accuracy: 0.8966 - val_loss: 0.4252 - val_accuracy: 0.8260\n",
            "Epoch 83/120\n",
            "10000/10000 [==============================] - 5s 530us/step - loss: 0.2548 - accuracy: 0.8912 - val_loss: 0.4228 - val_accuracy: 0.8170\n",
            "Epoch 84/120\n",
            "10000/10000 [==============================] - 5s 540us/step - loss: 0.2503 - accuracy: 0.8938 - val_loss: 0.4362 - val_accuracy: 0.8260\n",
            "Epoch 85/120\n",
            "10000/10000 [==============================] - 5s 500us/step - loss: 0.2511 - accuracy: 0.8941 - val_loss: 0.4278 - val_accuracy: 0.8360\n",
            "Epoch 86/120\n",
            "10000/10000 [==============================] - 5s 517us/step - loss: 0.2431 - accuracy: 0.8997 - val_loss: 0.4464 - val_accuracy: 0.8310\n",
            "Epoch 87/120\n",
            "10000/10000 [==============================] - 5s 518us/step - loss: 0.2472 - accuracy: 0.8957 - val_loss: 0.4295 - val_accuracy: 0.8320\n",
            "Epoch 88/120\n",
            "10000/10000 [==============================] - 5s 509us/step - loss: 0.2403 - accuracy: 0.9002 - val_loss: 0.4325 - val_accuracy: 0.8300\n",
            "Epoch 89/120\n",
            "10000/10000 [==============================] - 6s 600us/step - loss: 0.2428 - accuracy: 0.9011 - val_loss: 0.4685 - val_accuracy: 0.8300\n",
            "Epoch 90/120\n",
            "10000/10000 [==============================] - 5s 518us/step - loss: 0.2398 - accuracy: 0.8997 - val_loss: 0.4531 - val_accuracy: 0.8270\n",
            "Epoch 91/120\n",
            "10000/10000 [==============================] - 6s 552us/step - loss: 0.2426 - accuracy: 0.8969 - val_loss: 0.4661 - val_accuracy: 0.8270\n",
            "Epoch 92/120\n",
            "10000/10000 [==============================] - 5s 524us/step - loss: 0.2365 - accuracy: 0.9025 - val_loss: 0.4560 - val_accuracy: 0.8280\n",
            "Epoch 93/120\n",
            "10000/10000 [==============================] - 5s 506us/step - loss: 0.2362 - accuracy: 0.9038 - val_loss: 0.4491 - val_accuracy: 0.8320\n",
            "Epoch 94/120\n",
            "10000/10000 [==============================] - 5s 546us/step - loss: 0.2395 - accuracy: 0.9035 - val_loss: 0.4391 - val_accuracy: 0.8290\n",
            "Epoch 95/120\n",
            "10000/10000 [==============================] - 5s 479us/step - loss: 0.2366 - accuracy: 0.8976 - val_loss: 0.4832 - val_accuracy: 0.8280\n",
            "Epoch 96/120\n",
            "10000/10000 [==============================] - 5s 501us/step - loss: 0.2378 - accuracy: 0.9022 - val_loss: 0.4502 - val_accuracy: 0.8190\n",
            "Epoch 97/120\n",
            "10000/10000 [==============================] - 5s 535us/step - loss: 0.2327 - accuracy: 0.9039 - val_loss: 0.4593 - val_accuracy: 0.8220\n",
            "Epoch 98/120\n",
            "10000/10000 [==============================] - 5s 500us/step - loss: 0.2342 - accuracy: 0.9011 - val_loss: 0.4416 - val_accuracy: 0.8170\n",
            "Epoch 99/120\n",
            "10000/10000 [==============================] - 5s 481us/step - loss: 0.2311 - accuracy: 0.9031 - val_loss: 0.4872 - val_accuracy: 0.8270\n",
            "Epoch 100/120\n",
            "10000/10000 [==============================] - 5s 533us/step - loss: 0.2325 - accuracy: 0.9050 - val_loss: 0.4660 - val_accuracy: 0.8200\n",
            "Epoch 101/120\n",
            "10000/10000 [==============================] - 5s 510us/step - loss: 0.2241 - accuracy: 0.9096 - val_loss: 0.4791 - val_accuracy: 0.8290\n",
            "Epoch 102/120\n",
            "10000/10000 [==============================] - 5s 518us/step - loss: 0.2288 - accuracy: 0.9069 - val_loss: 0.4886 - val_accuracy: 0.8130\n",
            "Epoch 103/120\n",
            "10000/10000 [==============================] - 5s 539us/step - loss: 0.2196 - accuracy: 0.9114 - val_loss: 0.4988 - val_accuracy: 0.8220\n",
            "Epoch 104/120\n",
            "10000/10000 [==============================] - 6s 595us/step - loss: 0.2181 - accuracy: 0.9100 - val_loss: 0.5451 - val_accuracy: 0.8050\n",
            "Epoch 105/120\n",
            "10000/10000 [==============================] - 5s 494us/step - loss: 0.2220 - accuracy: 0.9090 - val_loss: 0.5313 - val_accuracy: 0.8210\n",
            "Epoch 106/120\n",
            "10000/10000 [==============================] - 5s 532us/step - loss: 0.2216 - accuracy: 0.9081 - val_loss: 0.5068 - val_accuracy: 0.8250\n",
            "Epoch 107/120\n",
            "10000/10000 [==============================] - 6s 560us/step - loss: 0.2214 - accuracy: 0.9083 - val_loss: 0.5317 - val_accuracy: 0.8030\n",
            "Epoch 108/120\n",
            "10000/10000 [==============================] - 5s 489us/step - loss: 0.2155 - accuracy: 0.9097 - val_loss: 0.5706 - val_accuracy: 0.8080\n",
            "Epoch 109/120\n",
            "10000/10000 [==============================] - 5s 526us/step - loss: 0.2178 - accuracy: 0.9114 - val_loss: 0.5713 - val_accuracy: 0.8230\n",
            "Epoch 110/120\n",
            "10000/10000 [==============================] - 5s 542us/step - loss: 0.2172 - accuracy: 0.9083 - val_loss: 0.5078 - val_accuracy: 0.8260\n",
            "Epoch 111/120\n",
            "10000/10000 [==============================] - 5s 507us/step - loss: 0.2150 - accuracy: 0.9125 - val_loss: 0.5129 - val_accuracy: 0.8130\n",
            "Epoch 112/120\n",
            "10000/10000 [==============================] - 5s 508us/step - loss: 0.2175 - accuracy: 0.9139 - val_loss: 0.5076 - val_accuracy: 0.8210\n",
            "Epoch 113/120\n",
            "10000/10000 [==============================] - 5s 541us/step - loss: 0.2144 - accuracy: 0.9144 - val_loss: 0.5341 - val_accuracy: 0.8110\n",
            "Epoch 114/120\n",
            "10000/10000 [==============================] - 5s 527us/step - loss: 0.2143 - accuracy: 0.9115 - val_loss: 0.4914 - val_accuracy: 0.8320\n",
            "Epoch 115/120\n",
            "10000/10000 [==============================] - 5s 523us/step - loss: 0.2059 - accuracy: 0.9159 - val_loss: 0.5134 - val_accuracy: 0.8160\n",
            "Epoch 116/120\n",
            "10000/10000 [==============================] - 5s 543us/step - loss: 0.2108 - accuracy: 0.9095 - val_loss: 0.4997 - val_accuracy: 0.8160\n",
            "Epoch 117/120\n",
            "10000/10000 [==============================] - 5s 511us/step - loss: 0.2117 - accuracy: 0.9105 - val_loss: 0.5166 - val_accuracy: 0.8180\n",
            "Epoch 118/120\n",
            "10000/10000 [==============================] - 5s 494us/step - loss: 0.2080 - accuracy: 0.9161 - val_loss: 0.5381 - val_accuracy: 0.8160\n",
            "Epoch 119/120\n",
            "10000/10000 [==============================] - 5s 510us/step - loss: 0.2099 - accuracy: 0.9138 - val_loss: 0.5212 - val_accuracy: 0.8200\n",
            "Epoch 120/120\n",
            "10000/10000 [==============================] - 5s 536us/step - loss: 0.2055 - accuracy: 0.9159 - val_loss: 0.5382 - val_accuracy: 0.8130\n"
          ],
          "name": "stdout"
        }
      ]
    },
    {
      "cell_type": "code",
      "metadata": {
        "id": "JLudh_je0-a0",
        "colab_type": "code",
        "colab": {}
      },
      "source": [
        "filename = 'drive/My Drive/Q A Bot/chatbot_120_epochs.h5'\n",
        "model.save(filename)"
      ],
      "execution_count": 0,
      "outputs": []
    },
    {
      "cell_type": "code",
      "metadata": {
        "id": "Zzm6Gt--3kEJ",
        "colab_type": "code",
        "outputId": "c6c9caee-037e-4294-ade0-6a73fc8e1cd0",
        "colab": {
          "base_uri": "https://localhost:8080/",
          "height": 312
        }
      },
      "source": [
        "import matplotlib.pyplot as plt\n",
        "%matplotlib inline\n",
        "print(history.history.keys())\n",
        "# summarize history for accuracy\n",
        "plt.plot(history.history['accuracy'])\n",
        "plt.plot(history.history['val_accuracy'])\n",
        "plt.title('model accuracy')\n",
        "plt.ylabel('accuracy')\n",
        "plt.xlabel('epoch')\n",
        "plt.legend(['train', 'test'], loc='upper left')\n",
        "plt.show()"
      ],
      "execution_count": 0,
      "outputs": [
        {
          "output_type": "stream",
          "text": [
            "dict_keys(['val_loss', 'val_accuracy', 'loss', 'accuracy'])\n"
          ],
          "name": "stdout"
        },
        {
          "output_type": "display_data",
          "data": {
            "image/png": "[encoded data removed]",
            "text/plain": [
              "<Figure size 432x288 with 1 Axes>"
            ]
          },
          "metadata": {
            "tags": [],
            "needs_background": "light"
          }
        }
      ]
    },
    {
      "cell_type": "code",
      "metadata": {
        "id": "tYqhFc8B3m8A",
        "colab_type": "code",
        "colab": {}
      },
      "source": [
        "model.load_weights(filename)\n",
        "pred_results = model.predict(([inputs_test, queries_test]))\n",
        "\n"
      ],
      "execution_count": 0,
      "outputs": []
    },
    {
      "cell_type": "code",
      "metadata": {
        "id": "RVAnF1TC4_s4",
        "colab_type": "code",
        "outputId": "54ea4059-c58d-45b1-a04d-7f4e8ce952bc",
        "colab": {
          "base_uri": "https://localhost:8080/",
          "height": 34
        }
      },
      "source": [
        "story =' '.join(word for word in test_data[0][0])\n",
        "print(story)"
      ],
      "execution_count": 0,
      "outputs": [
        {
          "output_type": "stream",
          "text": [
            "Mary got the milk there . John moved to the bedroom .\n"
          ],
          "name": "stdout"
        }
      ]
    },
    {
      "cell_type": "code",
      "metadata": {
        "id": "JLUI5eSI5Cx6",
        "colab_type": "code",
        "outputId": "3a509eae-b1c3-4e59-e1d9-88039e643346",
        "colab": {
          "base_uri": "https://localhost:8080/",
          "height": 34
        }
      },
      "source": [
        "query = ' '.join(word for word in test_data[0][1])\n",
        "print(query)"
      ],
      "execution_count": 0,
      "outputs": [
        {
          "output_type": "stream",
          "text": [
            "Is John in the kitchen ?\n"
          ],
          "name": "stdout"
        }
      ]
    },
    {
      "cell_type": "code",
      "metadata": {
        "id": "haiAIK6W5H35",
        "colab_type": "code",
        "outputId": "190895a7-fd09-4efb-96c6-e6ab57fd05ea",
        "colab": {
          "base_uri": "https://localhost:8080/",
          "height": 34
        }
      },
      "source": [
        "print(\"True Test Answer from Data is:\",test_data[0][2])"
      ],
      "execution_count": 0,
      "outputs": [
        {
          "output_type": "stream",
          "text": [
            "True Test Answer from Data is: no\n"
          ],
          "name": "stdout"
        }
      ]
    },
    {
      "cell_type": "code",
      "metadata": {
        "id": "vjzRvEg46DVb",
        "colab_type": "code",
        "outputId": "ae843ba9-2764-475d-eed7-1fdfdff6c679",
        "colab": {
          "base_uri": "https://localhost:8080/",
          "height": 34
        }
      },
      "source": [
        "np.argmax(pred_results[0])"
      ],
      "execution_count": 0,
      "outputs": [
        {
          "output_type": "execute_result",
          "data": {
            "text/plain": [
              "8"
            ]
          },
          "metadata": {
            "tags": []
          },
          "execution_count": 150
        }
      ]
    },
    {
      "cell_type": "code",
      "metadata": {
        "id": "BFjregpY5Lds",
        "colab_type": "code",
        "outputId": "db0d339c-21ed-4dee-f1c0-b25521eedfb2",
        "colab": {
          "base_uri": "https://localhost:8080/",
          "height": 51
        }
      },
      "source": [
        "val_max = np.argmax(pred_results[0])\n",
        "\n",
        "for key, val in tokenizer.word_index.items():\n",
        "    if val == val_max:\n",
        "        k = key\n",
        "\n",
        "print(\"Predicted answer is: \", k)\n",
        "print(\"Probability of certainty was: \", pred_results[0][val_max])"
      ],
      "execution_count": 0,
      "outputs": [
        {
          "output_type": "stream",
          "text": [
            "Predicted answer is:  no\n",
            "Probability of certainty was:  0.9999764\n"
          ],
          "name": "stdout"
        }
      ]
    },
    {
      "cell_type": "code",
      "metadata": {
        "id": "GxWQCHnO5T-r",
        "colab_type": "code",
        "outputId": "ca353243-7f33-46ea-aa6a-ca0fd065e2bc",
        "colab": {
          "base_uri": "https://localhost:8080/",
          "height": 242
        }
      },
      "source": [
        "my_story = \"John left the kitchen . Sandra dropped the football in the garden .\"\n",
        "my_story.split()"
      ],
      "execution_count": 0,
      "outputs": [
        {
          "output_type": "execute_result",
          "data": {
            "text/plain": [
              "['John',\n",
              " 'left',\n",
              " 'the',\n",
              " 'kitchen',\n",
              " '.',\n",
              " 'Sandra',\n",
              " 'dropped',\n",
              " 'the',\n",
              " 'football',\n",
              " 'in',\n",
              " 'the',\n",
              " 'garden',\n",
              " '.']"
            ]
          },
          "metadata": {
            "tags": []
          },
          "execution_count": 151
        }
      ]
    },
    {
      "cell_type": "code",
      "metadata": {
        "id": "CtFFJ15k7FW6",
        "colab_type": "code",
        "outputId": "67916320-810b-45a5-816c-74b2cfc7e944",
        "colab": {
          "base_uri": "https://localhost:8080/",
          "height": 34
        }
      },
      "source": [
        "my_question = \"Is the football in the garden ?\"\n",
        "my_question.split()"
      ],
      "execution_count": 0,
      "outputs": [
        {
          "output_type": "execute_result",
          "data": {
            "text/plain": [
              "['Is', 'the', 'football', 'in', 'the', 'garden', '?']"
            ]
          },
          "metadata": {
            "tags": []
          },
          "execution_count": 153
        }
      ]
    },
    {
      "cell_type": "code",
      "metadata": {
        "id": "PfMdT3jw7Kz9",
        "colab_type": "code",
        "colab": {}
      },
      "source": [
        "mydata = [(my_story.split(),my_question.split(),'yes')]"
      ],
      "execution_count": 0,
      "outputs": []
    },
    {
      "cell_type": "code",
      "metadata": {
        "id": "wJ2BsgAg7Vy0",
        "colab_type": "code",
        "colab": {}
      },
      "source": [
        "my_story,my_ques,my_ans = vectorize_stories(mydata)"
      ],
      "execution_count": 0,
      "outputs": []
    },
    {
      "cell_type": "code",
      "metadata": {
        "id": "xmWpYMra7Yd6",
        "colab_type": "code",
        "colab": {}
      },
      "source": [
        "pred_results = model.predict(([ my_story, my_ques]))"
      ],
      "execution_count": 0,
      "outputs": []
    },
    {
      "cell_type": "code",
      "metadata": {
        "id": "HSAU5N_17cbe",
        "colab_type": "code",
        "outputId": "aaa49426-b533-4f43-a9b3-a99b7697b25b",
        "colab": {
          "base_uri": "https://localhost:8080/",
          "height": 51
        }
      },
      "source": [
        "val_max = np.argmax(pred_results[0])\n",
        "\n",
        "for key, val in tokenizer.word_index.items():\n",
        "    if val == val_max:\n",
        "        k = key\n",
        "\n",
        "print(\"Predicted answer is: \", k)\n",
        "print(\"Probability of certainty was: \", pred_results[0][val_max])"
      ],
      "execution_count": 0,
      "outputs": [
        {
          "output_type": "stream",
          "text": [
            "Predicted answer is:  yes\n",
            "Probability of certainty was:  0.7965055\n"
          ],
          "name": "stdout"
        }
      ]
    },
    {
      "cell_type": "code",
      "metadata": {
        "id": "qPEo6iwP7fWs",
        "colab_type": "code",
        "colab": {}
      },
      "source": [
        ""
      ],
      "execution_count": 0,
      "outputs": []
    }
  ]
}